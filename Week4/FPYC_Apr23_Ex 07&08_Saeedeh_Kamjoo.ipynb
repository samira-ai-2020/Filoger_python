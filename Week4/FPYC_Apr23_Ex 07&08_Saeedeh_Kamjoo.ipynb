{
 "cells": [
  {
   "cell_type": "markdown",
   "metadata": {},
   "source": [
    "<div>\n",
    "<h2 style=\"background-color:Purple;text-align:center;border-radius:40px;border: 1px;padding: 20px;\"><b>Filoger Hands On Prerequisite Python For AI <br>Exercises 07 & 08 | Deadline: 2023 9 May <br> Score: 700</h2>\n",
    "</div>"
   ]
  },
  {
   "cell_type": "markdown",
   "metadata": {},
   "source": [
    "# Name"
   ]
  },
  {
   "cell_type": "code",
   "execution_count": 1,
   "metadata": {},
   "outputs": [],
   "source": [
    "# Saeedeh, Kamjoo"
   ]
  },
  {
   "cell_type": "markdown",
   "metadata": {},
   "source": [
    "<h3 style=\"background-color:#ff3300\n",
    ";text-align:center;border-radius:40px;border: 1px;padding: 10px;\"><b>Exercises 07<br>Score: 400</h3>"
   ]
  },
  {
   "cell_type": "markdown",
   "metadata": {},
   "source": [
    "<h5 style=\"background-color:#1765e3;text-align:left;border-radius:40px;border: 1px;padding: 10px;\"><b>1- Write the product management project (exercise 6) using functions. (150)</h5>"
   ]
  },
  {
   "cell_type": "markdown",
   "metadata": {},
   "source": [
    "### Functions:"
   ]
  },
  {
   "cell_type": "code",
   "execution_count": 2,
   "metadata": {},
   "outputs": [],
   "source": [
    "def add_prod(product):\n",
    "    prod = input('Enter your product: ')\n",
    "    price = float(input('Enter its price: '))\n",
    "    if prod not in products:\n",
    "        products[prod] = price\n",
    "    else:\n",
    "        print('Your product exists!')\n",
    "\n",
    "#===============================================\n",
    "def display(product):\n",
    "    items = list(products.items())\n",
    "    num_prod = list(products.keys())\n",
    "    prices = list(products.values())\n",
    "    avg_price = sum(prices)/len(prices)\n",
    "    expensive = max(prices)\n",
    "    max_key = [key for key, value in items if value == max(prices)]\n",
    "    cheapest = min(prices)\n",
    "    min_key = [key for key, value in items if value == min(prices)]\n",
    "    print(f'The list of products: {items}\\n \\\n",
    "            The number of products: {len(products)}\\n \\\n",
    "            The most expensive products: {max_key}-->{expensive}\\n \\\n",
    "            The cheapest products: {min_key}-->{cheapest}\\n \\\n",
    "            The average of products: {avg_price} ')\n",
    "\n",
    "#===============================================\n",
    "def edit(product):\n",
    "    i = 0\n",
    "    for key, value in products.items():\n",
    "        i += 1\n",
    "        print(f'{i}- {key} : {value}')\n",
    "    old_key = input('Enter your product that should be changed: ')\n",
    "    task = input('Which one do you edit? ( name/price): ')\n",
    "    if task == 'name':\n",
    "        new_key = input('Enter new name of product: ')\n",
    "        if new_key not in products.keys():\n",
    "            products[new_key] = products.pop(old_key)\n",
    "            print(products)\n",
    "        else:\n",
    "            print(f'{new_key} exists!')\n",
    "    elif task == 'price':\n",
    "        new_price = float(input('Enter new price: '))\n",
    "        products[old_key] = new_price\n",
    "        print(products)\n",
    "    else:\n",
    "        print('Invalid command!')\n",
    "\n",
    "#===============================================\n",
    "def delete_prod(product):\n",
    "    i = 0\n",
    "    for key, value in products.items():\n",
    "        i += 1\n",
    "        print(f'{i}- {key} : {value}')\n",
    "    del_key = input('Enter your product that should be deleted: ')\n",
    "    del products[del_key]\n",
    "    print(products)\n",
    "    \n",
    "#===============================================\n",
    "def search(product):\n",
    "    word = input('Enter your word to search: ')\n",
    "    keys = list(products.keys())\n",
    "    for i , k in enumerate(keys):\n",
    "        if word in k:\n",
    "            print(k)"
   ]
  },
  {
   "cell_type": "markdown",
   "metadata": {},
   "source": [
    "### Main Body:"
   ]
  },
  {
   "cell_type": "code",
   "execution_count": 3,
   "metadata": {},
   "outputs": [
    {
     "name": "stdout",
     "output_type": "stream",
     "text": [
      "Insert your operation(add/delete/edit/detail/search): add\n",
      "Enter your product: watch\n",
      "Enter its price: 1250\n",
      "Insert your operation(add/delete/edit/detail/search): add\n",
      "Enter your product: changer\n",
      "Enter its price: 580\n",
      "Insert your operation(add/delete/edit/detail/search): detail\n",
      "The list of products: [('laptop', 3500), ('tablet', 1250), ('phone', 580), ('watch', 1250.0), ('changer', 580.0)]\n",
      "             The number of products: 5\n",
      "             The most expensive products: ['laptop']-->3500\n",
      "             The cheapest products: ['phone', 'changer']-->580\n",
      "             The average of products: 1432.0 \n",
      "Insert your operation(add/delete/edit/detail/search): exit\n"
     ]
    }
   ],
   "source": [
    "products = {'laptop':3500, 'tablet':1250, 'phone':580}\n",
    "while True:\n",
    "    user = input(f'Insert your operation(add/delete/edit/detail/search): ')\n",
    "    if user == 'add':\n",
    "        add_prod(products)\n",
    "    elif user == 'delete':\n",
    "        delete_prod(products)\n",
    "    elif user == 'edit':\n",
    "        edit(products)\n",
    "    elif user == 'detail':\n",
    "        display(products)\n",
    "    elif user == 'search':\n",
    "        search(products)\n",
    "    elif user == \"\":\n",
    "        pass\n",
    "    elif user == 'exit':\n",
    "        break\n",
    "    else:\n",
    "        print(f'{user} NOT found!')"
   ]
  },
  {
   "cell_type": "markdown",
   "metadata": {},
   "source": [
    "<h5 style=\"background-color:#1765e3;text-align:left;border-radius:40px;border: 1px;padding: 10px;\"><b>2- Write the question 2 of exercise 5 using functions (100)</h5>"
   ]
  },
  {
   "cell_type": "code",
   "execution_count": 4,
   "metadata": {},
   "outputs": [],
   "source": [
    "# Addition\n",
    "def add_in(a,b):\n",
    "    return a+b\n",
    "\n",
    "# Subtraction\n",
    "def subtract_in(a,b):\n",
    "    return a-b\n",
    "\n",
    "# Multiplication\n",
    "def mutiply_in(a,b):\n",
    "    return a*b\n",
    "\n",
    "def divide_in(a,b):\n",
    "    if b != 0:\n",
    "        res = a/b\n",
    "    else:\n",
    "        res = 'Error'\n",
    "    return res"
   ]
  },
  {
   "cell_type": "code",
   "execution_count": 5,
   "metadata": {},
   "outputs": [
    {
     "name": "stdout",
     "output_type": "stream",
     "text": [
      "Insert your sample: 3 / 0 = ?\n",
      "['3', '/', '0', '=', '?']\n",
      "------------------------------\n",
      "x = 3, y = 0, operator = /\n"
     ]
    }
   ],
   "source": [
    "sample = input('Insert your sample: ')\n",
    "lst_sample = sample.split()\n",
    "print(lst_sample)\n",
    "print('-'*30)\n",
    "x = int(lst_sample[0])\n",
    "y = int(lst_sample[2])\n",
    "print(f'x = {x}, y = {y}, operator = {lst_sample[1]}')"
   ]
  },
  {
   "cell_type": "code",
   "execution_count": 6,
   "metadata": {},
   "outputs": [
    {
     "name": "stdout",
     "output_type": "stream",
     "text": [
      "3 / 0 = Error\n"
     ]
    }
   ],
   "source": [
    "if lst_sample[1] == '+':\n",
    "    print(f'{x} + {y} = {add_in(x,y)}')\n",
    "elif lst_sample[1] == '-':\n",
    "    print(f'{x} - {y} = {subtract_in(x,y)}')\n",
    "elif lst_sample[1] == '*':\n",
    "    print(f'{x} * {y} = {multiply_in(x,y)}')\n",
    "elif lst_sample[1] == '/':\n",
    "    print(f'{x} / {y} = {divide_in(x,y)}')\n",
    "else:\n",
    "    print('Your operator is not authorized')"
   ]
  },
  {
   "cell_type": "markdown",
   "metadata": {},
   "source": [
    "<h5 style=\"background-color:#1765e3;text-align:left;border-radius:40px;border: 1px;padding: 10px;\"><b>3- Receive two strings from the user in the following format, then receive one of the +, - and * and perform the requested calculations.(150)</h5>\n",
    "<img src=\"q7.3.png\" width=\"200\" height=\"400\">"
   ]
  },
  {
   "cell_type": "code",
   "execution_count": 7,
   "metadata": {},
   "outputs": [],
   "source": [
    "# First Method ---> zip()\n",
    "def calc_list(s1, s2, op):\n",
    "    lst_s1 = list(map(int , s1.split())) \n",
    "    lst_s2 = list(map(int , s2.split()))\n",
    "    if op == \"+\":\n",
    "        res = [i1+i2 for i1,i2 in zip(lst_s1, lst_s2)]\n",
    "    elif op ==\"-\":\n",
    "        res = [i1-i2 for i1,i2 in zip(lst_s1, lst_s2)]\n",
    "    elif op ==\"*\":\n",
    "        res = [i1*i2 for i1,i2 in zip(lst_s1, lst_s2)]\n",
    "    else:\n",
    "        res = 'Your operator is not authorized'\n",
    "    return list(zip(lst_s1, lst_s2)), res"
   ]
  },
  {
   "cell_type": "code",
   "execution_count": 8,
   "metadata": {},
   "outputs": [],
   "source": [
    "# Second Method ---> operator library and map()\n",
    "from operator import add, sub, mul\n",
    "def calc_list_lib(s1, s2, op):\n",
    "    lst_s1 = list(map(int , s1.split())) \n",
    "    lst_s2 = list(map(int , s2.split()))\n",
    "    if op == \"+\":\n",
    "        res = list( map(add, lst_s1, lst_s2) )\n",
    "    elif op ==\"-\":\n",
    "        res = list( map(sub, lst_s1, lst_s2) )\n",
    "    elif op ==\"*\":\n",
    "        res = list( map(mul, lst_s1, lst_s2) )\n",
    "    else:\n",
    "        res = 'Your operator is not authorized'\n",
    "    return res"
   ]
  },
  {
   "cell_type": "code",
   "execution_count": 9,
   "metadata": {},
   "outputs": [
    {
     "name": "stdout",
     "output_type": "stream",
     "text": [
      "Enter your list1:1 6 7 2 5\n",
      "Enter your list2:1 2 4 \n",
      "Enter your operator:+\n",
      "([(1, 1), (6, 2), (7, 4)], [2, 8, 11])\n",
      "--------------------\n",
      "[2, 8, 11]\n"
     ]
    }
   ],
   "source": [
    "s1 = input('Enter your list1:')\n",
    "s2 = input('Enter your list2:')\n",
    "op = input('Enter your operator:')\n",
    "print(calc_list(s1,s2,op))\n",
    "print('-'*20)\n",
    "print(calc_list_lib(s1,s2,op))"
   ]
  },
  {
   "cell_type": "markdown",
   "metadata": {},
   "source": [
    "<h3 style=\"background-color:#ff3300\n",
    ";text-align:center;border-radius:40px;border: 1px;padding: 10px;\"><b>Exercises 08<br>Score: 300</h3>"
   ]
  },
  {
   "cell_type": "markdown",
   "metadata": {},
   "source": [
    "<h5 style=\"background-color:#1765e3;text-align:left;border-radius:40px;border: 1px;padding: 10px;\"><b>1- (Dictionary) : Answer the following questions based on the dictionary topic.\n",
    "</h5>"
   ]
  },
  {
   "cell_type": "markdown",
   "metadata": {},
   "source": [
    "<h5>A) Create a product dictionary that contains the following information.</h5> \n",
    "Product code, product name, product price, product quantity and product sales branch"
   ]
  },
  {
   "cell_type": "code",
   "execution_count": 10,
   "metadata": {},
   "outputs": [],
   "source": [
    "product = {'product code': 's2024',\n",
    "           'product name': 'lipstick', \n",
    "           'product price': 350,\n",
    "           'product quantity': 17,\n",
    "           'product sales branch': 'cosmetics'}"
   ]
  },
  {
   "cell_type": "markdown",
   "metadata": {},
   "source": [
    "<h5>B) Get a number from the user and create a list of products as long as the entered number.</h5>"
   ]
  },
  {
   "cell_type": "code",
   "execution_count": 11,
   "metadata": {},
   "outputs": [
    {
     "name": "stdout",
     "output_type": "stream",
     "text": [
      "Enter a number of products: 2\n",
      "product code: e123\n",
      "product name: eyeliner\n",
      "product price: 25\n",
      "product quantity: 145\n",
      "product sales branch: cosmetics\n",
      "product code: l987\n",
      "product name: lipliner\n",
      "product price: 58\n",
      "product quantity: 87\n",
      "product sales branch: cosmetics\n",
      "[{'product code': 'e123', 'product name': 'eyeliner', 'product price': 25.0, 'product quantity': 145, 'product sales branch': 'cosmetics'}, {'product code': 'l987', 'product name': 'lipliner', 'product price': 58.0, 'product quantity': 87, 'product sales branch': 'cosmetics'}]\n"
     ]
    }
   ],
   "source": [
    "products = []\n",
    "num = int(input('Enter a number of products: '))\n",
    "for i in range(num):\n",
    "    pcode = input('product code: ')\n",
    "    pname = input('product name: ') \n",
    "    pprice = float(input('product price: '))\n",
    "    pquant = int(input('product quantity: '))\n",
    "    pbranch = input('product sales branch: ')\n",
    "    prod = {}\n",
    "#     prod['product code'] = pcode\n",
    "#     prod['product name'] = pname \n",
    "#     prod['product price'] = pprice\n",
    "#     prod['product quantity'] = pquant\n",
    "#     prod['product sales branch'] = pbranch\n",
    "    prod.update({'product code': pcode,\n",
    "               'product name': pname,\n",
    "               'product price': pprice,\n",
    "               'product quantity': pquant,\n",
    "               'product sales branch': pbranch})\n",
    "    products.append(prod)\n",
    "\n",
    "print(products)"
   ]
  },
  {
   "cell_type": "markdown",
   "metadata": {},
   "source": [
    "<h5>C) Display the price of the first product.</h5>"
   ]
  },
  {
   "cell_type": "code",
   "execution_count": 12,
   "metadata": {},
   "outputs": [
    {
     "name": "stdout",
     "output_type": "stream",
     "text": [
      "The price of the first products: 25.0\n"
     ]
    }
   ],
   "source": [
    "print(f\"The price of the first products: {products[0]['product price']}\")"
   ]
  },
  {
   "cell_type": "markdown",
   "metadata": {},
   "source": [
    "<h5>D) Remove the branch from all products.</h5>"
   ]
  },
  {
   "cell_type": "code",
   "execution_count": 13,
   "metadata": {},
   "outputs": [
    {
     "name": "stdout",
     "output_type": "stream",
     "text": [
      "[{'product code': 'e123', 'product name': 'eyeliner', 'product price': 25.0, 'product quantity': 145}, {'product code': 'l987', 'product name': 'lipliner', 'product price': 58.0, 'product quantity': 87}]\n"
     ]
    }
   ],
   "source": [
    "for i in range(len(products)):\n",
    "    del products[i]['product sales branch']\n",
    "    \n",
    "print(products)"
   ]
  },
  {
   "cell_type": "markdown",
   "metadata": {},
   "source": [
    "<h5>E) Display product prices in a list in order.</h5>"
   ]
  },
  {
   "cell_type": "code",
   "execution_count": 14,
   "metadata": {},
   "outputs": [
    {
     "name": "stdout",
     "output_type": "stream",
     "text": [
      "[25.0, 58.0]\n"
     ]
    }
   ],
   "source": [
    "prices = []\n",
    "for i in range(len(products)):\n",
    "    prices.append(products[i]['product price'])\n",
    "\n",
    "prices.sort()\n",
    "print(prices)"
   ]
  },
  {
   "cell_type": "markdown",
   "metadata": {},
   "source": [
    "<h5> F) Show average prices.</h5>"
   ]
  },
  {
   "cell_type": "code",
   "execution_count": 15,
   "metadata": {},
   "outputs": [
    {
     "name": "stdout",
     "output_type": "stream",
     "text": [
      "The average of prices: 41.5\n"
     ]
    }
   ],
   "source": [
    "print(f'The average of prices: {sum(prices)/len(prices)}')"
   ]
  },
  {
   "cell_type": "code",
   "execution_count": null,
   "metadata": {},
   "outputs": [],
   "source": []
  }
 ],
 "metadata": {
  "kernelspec": {
   "display_name": "Python 3 (ipykernel)",
   "language": "python",
   "name": "python3"
  },
  "language_info": {
   "codemirror_mode": {
    "name": "ipython",
    "version": 3
   },
   "file_extension": ".py",
   "mimetype": "text/x-python",
   "name": "python",
   "nbconvert_exporter": "python",
   "pygments_lexer": "ipython3",
   "version": "3.9.16"
  }
 },
 "nbformat": 4,
 "nbformat_minor": 2
}
