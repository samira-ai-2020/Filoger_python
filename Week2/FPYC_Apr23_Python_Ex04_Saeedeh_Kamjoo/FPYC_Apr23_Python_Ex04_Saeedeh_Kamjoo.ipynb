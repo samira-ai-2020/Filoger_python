{
 "cells": [
  {
   "cell_type": "markdown",
   "id": "b296fdb5",
   "metadata": {},
   "source": [
    "# <center>Exercise 04"
   ]
  },
  {
   "cell_type": "markdown",
   "id": "caca6d8e",
   "metadata": {},
   "source": [
    "## Question1:\n",
    "Display the following pattern in the output."
   ]
  },
  {
   "cell_type": "code",
   "execution_count": 1,
   "id": "1ea2b9f2",
   "metadata": {},
   "outputs": [
    {
     "name": "stdout",
     "output_type": "stream",
     "text": [
      "\n",
      "P\n",
      "PY\n",
      "PYT\n",
      "PYTH\n",
      "PYTHO\n",
      "PYTHON\n"
     ]
    }
   ],
   "source": [
    "str1 = 'python'\n",
    "\n",
    "for i in range(len(str1)+1):\n",
    "    print(str1[:i].upper())"
   ]
  },
  {
   "cell_type": "markdown",
   "id": "19598312",
   "metadata": {},
   "source": [
    "## Question2:\n",
    "Find the number of vowel characters(a, e, i, o, u) in text bellow.\n",
    "- Python is a high-level, general-purpose programming language."
   ]
  },
  {
   "cell_type": "code",
   "execution_count": 4,
   "id": "b59545d3",
   "metadata": {},
   "outputs": [
    {
     "name": "stdout",
     "output_type": "stream",
     "text": [
      "The number of vowel characters: 19\n"
     ]
    }
   ],
   "source": [
    "str2 = 'Python is a high-level, general-purpose programming language.'\n",
    "str2 = str2.lower()\n",
    "v_count = 0 \n",
    "for char in str2:\n",
    "    if char =='a' or char =='e' or char =='i' or char =='o' or char =='u':\n",
    "        v_count += 1\n",
    "        \n",
    "print(f'The number of vowel characters: {v_count}')"
   ]
  },
  {
   "cell_type": "markdown",
   "id": "f1c5a36a",
   "metadata": {},
   "source": [
    "## Question3:\n",
    "Get a number from the input and display the following result."
   ]
  },
  {
   "cell_type": "code",
   "execution_count": 2,
   "id": "08921b89",
   "metadata": {},
   "outputs": [
    {
     "name": "stdout",
     "output_type": "stream",
     "text": [
      "Please enter your number: 5\n",
      "5 * 0 = 0\n",
      "5 * 2 = 10\n",
      "5 * 4 = 20\n",
      "5 * 6 = 30\n",
      "5 * 8 = 40\n",
      "5 * 10 = 50\n"
     ]
    }
   ],
   "source": [
    "num = int(input('Please enter your number: '))\n",
    "\n",
    "for i in range(num+1):\n",
    "    power = i*2\n",
    "    print(f'{num} * {power} = {num*power}')"
   ]
  },
  {
   "cell_type": "markdown",
   "id": "57a98324",
   "metadata": {},
   "source": [
    "## Question4:\n",
    "Get a number from the input and display the following result."
   ]
  },
  {
   "cell_type": "code",
   "execution_count": 3,
   "id": "5c028424",
   "metadata": {},
   "outputs": [
    {
     "name": "stdout",
     "output_type": "stream",
     "text": [
      "Please enter your number: 5\n",
      "5/0 = Error\n",
      "5/1 = 5\n",
      "5/2 = 2\n",
      "5/3 = 1\n",
      "5/4 = 1\n"
     ]
    }
   ],
   "source": [
    "num_dev = int(input('Please enter your number: '))\n",
    "\n",
    "for i in range(num):\n",
    "    if i == 0:\n",
    "        print(f'{num}/0 = Error')\n",
    "    else:\n",
    "        print(f'{num}/{i} = {num//i}')"
   ]
  },
  {
   "cell_type": "code",
   "execution_count": null,
   "id": "106a8322",
   "metadata": {},
   "outputs": [],
   "source": []
  }
 ],
 "metadata": {
  "kernelspec": {
   "display_name": "Python 3 (ipykernel)",
   "language": "python",
   "name": "python3"
  },
  "language_info": {
   "codemirror_mode": {
    "name": "ipython",
    "version": 3
   },
   "file_extension": ".py",
   "mimetype": "text/x-python",
   "name": "python",
   "nbconvert_exporter": "python",
   "pygments_lexer": "ipython3",
   "version": "3.9.12"
  }
 },
 "nbformat": 4,
 "nbformat_minor": 5
}
