{
 "cells": [
  {
   "cell_type": "markdown",
   "id": "a555209c",
   "metadata": {},
   "source": [
    "# <center>Exercise 03"
   ]
  },
  {
   "attachments": {},
   "cell_type": "markdown",
   "id": "2719dae0",
   "metadata": {},
   "source": [
    "Github Account: https://github.com/skamjoo/Filoger_python"
   ]
  },
  {
   "cell_type": "markdown",
   "id": "d21c8a51",
   "metadata": {},
   "source": [
    "## Question1:\n",
    "Get a string from input and display the first, last, and middle characters."
   ]
  },
  {
   "cell_type": "code",
   "execution_count": 5,
   "id": "1e4a9e5d",
   "metadata": {},
   "outputs": [
    {
     "name": "stdout",
     "output_type": "stream",
     "text": [
      "Please enter your string: python\n",
      "First character of python is: p\n",
      "Last character of python is: n\n",
      "Middle character/s of python is: th\n"
     ]
    }
   ],
   "source": [
    "str1 = input('Please enter your string: ')\n",
    "length = len(str1)\n",
    "mid_index = length//2\n",
    "if length % 2 == 0:\n",
    "    mid_char = str1[mid_index-1 : mid_index+1]\n",
    "else:\n",
    "     mid_char = str1[mid_index]\n",
    "\n",
    "print(f'First character of {str1} is: {str1[0]}')\n",
    "print(f'Last character of {str1} is: {str1[-1]}')\n",
    "print(f'Middle character/s of {str1} is: {mid_char}')"
   ]
  },
  {
   "cell_type": "markdown",
   "id": "490834b3",
   "metadata": {},
   "source": [
    "## Question2:\n",
    "Ger three strings from the input and display in the output any one whose length is greater than the average length of the three strings."
   ]
  },
  {
   "cell_type": "code",
   "execution_count": 14,
   "id": "761eb80d",
   "metadata": {},
   "outputs": [
    {
     "name": "stdout",
     "output_type": "stream",
     "text": [
      "Please enter the first string: tjhjgjjggghkgh\n",
      "Please enter the second string: fghfghfghfghfghfghgghgfghfhgfghfg\n",
      "Please enter the third string: adaefaefaefafafafa\n",
      "Average: 21.666666666666668\n",
      "The greater length: 33    (fghfghfghfghfghfghgghgfghfhgfghfg)\n"
     ]
    }
   ],
   "source": [
    "str2_1 = input('Please enter the first string: ')\n",
    "str2_2 = input('Please enter the second string: ')\n",
    "str2_3 = input('Please enter the third string: ')\n",
    "\n",
    "length1 = len(str2_1)\n",
    "length2 = len(str2_2)\n",
    "length3 = len(str2_3)\n",
    "avg_len = (length1+length2+length3)/3\n",
    "\n",
    "if length1 >= avg_len:\n",
    "    great_len = length1\n",
    "    print(f'Average: {avg_len}\\nThe greater length: {length1}\\\n",
    "    ({str2_1})')\n",
    "elif length2 >= avg_len:\n",
    "    great_len = length2\n",
    "    print(f'Average: {avg_len}\\nThe greater length: {length2}\\\n",
    "    ({str2_2})')\n",
    "else:\n",
    "    great_len = length3\n",
    "    print(f'Average: {avg_len}\\nThe greater length: {length3}\\\n",
    "    ({str2_3})')\n",
    "    \n"
   ]
  },
  {
   "cell_type": "markdown",
   "id": "825e6b86",
   "metadata": {},
   "source": [
    "## Question3:\n",
    "Get two strings from the input, if the second string is present in the first string, remove it, otherwise add the second string at the start and end of the first string. Display the new string in the output."
   ]
  },
  {
   "cell_type": "code",
   "execution_count": 18,
   "id": "81628a62",
   "metadata": {},
   "outputs": [
    {
     "name": "stdout",
     "output_type": "stream",
     "text": [
      "Please enter the first string: python java\n",
      "Please enter the second string: oop\n",
      "The new string: ooppython javaoop\n"
     ]
    }
   ],
   "source": [
    "str3_1 = input('Please enter the first string: ')\n",
    "str3_2 = input('Please enter the second string: ')\n",
    "\n",
    "if str3_2 in str3_1:\n",
    "    new_str = str3_1.replace(str3_2 , '')\n",
    "else:\n",
    "    new_str = str3_2 + str3_1 + str3_2\n",
    "    \n",
    "print(f'The new string: {new_str}')"
   ]
  },
  {
   "cell_type": "markdown",
   "id": "2f2dc7a3",
   "metadata": {},
   "source": [
    "## Question4:\n",
    "Find four new methods of strings."
   ]
  },
  {
   "cell_type": "code",
   "execution_count": 32,
   "id": "27b77ced",
   "metadata": {},
   "outputs": [
    {
     "name": "stdout",
     "output_type": "stream",
     "text": [
      "The python is the best programing\n",
      "True\n",
      "False\n",
      "the python iS the BePt prograMing\n",
      "THE PYTHON Is THE bEST PROGRAmING\n"
     ]
    }
   ],
   "source": [
    "str4 = 'the python iS the Best prograMing'\n",
    "\n",
    "# Fisrt method ==> capitalize():\n",
    "# Converts the first character to upper case\n",
    "\n",
    "print(str4.capitalize())\n",
    "\n",
    "\n",
    "\n",
    "# Second method ==> startswith(): \n",
    "# Returns true if the string starts with the specified value\n",
    "\n",
    "print(str4.startswith('t'))\n",
    "print(str4.startswith('T'))\n",
    "\n",
    "\n",
    "\n",
    "# Third method ==> translate(): \n",
    "\"\"\"\n",
    "returns a string where some specified characters \n",
    "are replaced with the character described in a dictionary, \n",
    "or in a mapping table.\n",
    "Use the maketrans() method to create a mapping table.\n",
    "If a character is not specified in the dictionary/table, \n",
    "the character will not be replaced.\n",
    "If you use a dictionary, you must use ascii codes instead of characters.\n",
    "\n",
    "\"\"\"\n",
    "mytable = str.maketrans(\"s\", \"P\")\n",
    "print(str4.translate(mytable))\n",
    "\n",
    "\n",
    "\n",
    "# Forth method ==> swapcase():\n",
    "# Swaps cases, lower case becomes upper case and vice versa\n",
    "\n",
    "print(str4.swapcase())"
   ]
  },
  {
   "cell_type": "code",
   "execution_count": null,
   "id": "1a99246f",
   "metadata": {},
   "outputs": [],
   "source": []
  }
 ],
 "metadata": {
  "kernelspec": {
   "display_name": "Python 3 (ipykernel)",
   "language": "python",
   "name": "python3"
  },
  "language_info": {
   "codemirror_mode": {
    "name": "ipython",
    "version": 3
   },
   "file_extension": ".py",
   "mimetype": "text/x-python",
   "name": "python",
   "nbconvert_exporter": "python",
   "pygments_lexer": "ipython3",
   "version": "3.9.12"
  }
 },
 "nbformat": 4,
 "nbformat_minor": 5
}
