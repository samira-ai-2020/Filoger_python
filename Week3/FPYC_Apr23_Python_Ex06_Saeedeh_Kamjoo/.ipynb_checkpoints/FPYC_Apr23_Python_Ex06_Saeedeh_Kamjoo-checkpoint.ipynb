{
 "cells": [
  {
   "cell_type": "markdown",
   "id": "be3ee9cb",
   "metadata": {},
   "source": [
    "# <center>Exercise 06"
   ]
  },
  {
   "cell_type": "markdown",
   "id": "a95258dd",
   "metadata": {},
   "source": [
    "## Write the products management project as follows.\n",
    "\n",
    "1. Product information includes name and price.\n",
    "2. Use list to save information.\n",
    "3. We do not have duplicate product name.\n",
    "4. This project includes sections for adding, deleting, editing, detail and searching by product name.\n",
    "5. For the detail section, display the total number of products, the average price, the most expensive and cheapest product.\n",
    "6. The program should continue until the user enters \"exit\".\n",
    "\n"
   ]
  },
  {
   "cell_type": "markdown",
   "id": "23bf8f1c",
   "metadata": {},
   "source": [
    "### Functions:"
   ]
  },
  {
   "cell_type": "code",
   "execution_count": 1,
   "id": "d4e4c81b",
   "metadata": {},
   "outputs": [],
   "source": [
    "def add_prod(product):\n",
    "    prod = input('Enter your product: ')\n",
    "    price = float(input('Enter its price: '))\n",
    "    if prod not in products:\n",
    "        products[prod] = price\n",
    "    else:\n",
    "        print('Your product exists!')"
   ]
  },
  {
   "cell_type": "code",
   "execution_count": 2,
   "id": "eaff5a3f",
   "metadata": {},
   "outputs": [],
   "source": [
    "def display(product):\n",
    "    items = list(products.items())\n",
    "    num_prod = list(products.keys())\n",
    "    prices = products.values()\n",
    "    avg_price = sum(prices)/len(prices)\n",
    "    expensive = max(prices)\n",
    "    max_key = max(products, key=products.get)\n",
    "    cheapest = min(prices)\n",
    "    min_key = min(products, key=products.get)\n",
    "    print(f'The list of products: {items}\\n \\\n",
    "            The products: {num_prod} ---> {len(products)}\\n \\\n",
    "            The most expensive products: {max_key}-->{expensive}\\n \\\n",
    "            The cheapest products: {min_key}-->{cheapest}\\n \\\n",
    "            The average of products: {avg_price} ')"
   ]
  },
  {
   "cell_type": "code",
   "execution_count": 3,
   "id": "16ff68de",
   "metadata": {},
   "outputs": [],
   "source": [
    "def edit(product):\n",
    "    i = 0\n",
    "    for key, value in products.items():\n",
    "        i += 1\n",
    "        print(f'{i}- {key} : {value}')\n",
    "    old_key = input('Enter your product that should be changed: ')\n",
    "    task = input('Which one do you edit? ( name/price): ')\n",
    "    if task == 'name':\n",
    "        new_key = input('Enter new name of product: ')\n",
    "        if new_key not in products.keys():\n",
    "            products[new_key] = products.pop(old_key)\n",
    "            print(products)\n",
    "        else:\n",
    "            print(f'{new_key} exists!')\n",
    "    elif task == 'price':\n",
    "        new_price = float(input('Enter new price: '))\n",
    "        products[old_key] = new_price\n",
    "        print(products)\n",
    "    else:\n",
    "        print('Invalid command!')"
   ]
  },
  {
   "cell_type": "code",
   "execution_count": 4,
   "id": "e5e02f5b",
   "metadata": {},
   "outputs": [],
   "source": [
    "def delete_prod(product):\n",
    "    i = 0\n",
    "    for key, value in products.items():\n",
    "        i += 1\n",
    "        print(f'{i}- {key} : {value}')\n",
    "    del_key = input('Enter your product that should be deleted: ')\n",
    "    del products[del_key]\n",
    "    print(products)"
   ]
  },
  {
   "cell_type": "code",
   "execution_count": 5,
   "id": "a39c0762",
   "metadata": {},
   "outputs": [],
   "source": [
    "def search(product):\n",
    "    word = input('Enter your word to search: ')\n",
    "    keys = list(products.keys())\n",
    "    for i , k in enumerate(keys):\n",
    "        if word in k:\n",
    "            print(k)"
   ]
  },
  {
   "cell_type": "markdown",
   "id": "17d01e96",
   "metadata": {},
   "source": [
    "### Main Body:"
   ]
  },
  {
   "cell_type": "code",
   "execution_count": 6,
   "id": "9c7326fd",
   "metadata": {},
   "outputs": [
    {
     "name": "stdout",
     "output_type": "stream",
     "text": [
      "Insert your operation(add/delete/edit/detail/search): add\n",
      "Enter your product: smart watch\n",
      "Enter its price: 370\n",
      "Insert your operation(add/delete/edit/detail/search): detail\n",
      "The list of products: [('laptop', 3500), ('tablet', 1250), ('phone', 580), ('smart watch', 370.0)]\n",
      "             The products: ['laptop', 'tablet', 'phone', 'smart watch'] ---> 4\n",
      "             The most expensive products: laptop-->3500\n",
      "             The cheapest products: smart watch-->370.0\n",
      "             The average of products: 1425.0 \n",
      "Insert your operation(add/delete/edit/detail/search): edit\n",
      "1- laptop : 3500\n",
      "2- tablet : 1250\n",
      "3- phone : 580\n",
      "4- smart watch : 370.0\n",
      "Enter your product that should be changed: smart watch\n",
      "Which one do you edit? ( name/price): name\n",
      "Enter new name of product: watch\n",
      "{'laptop': 3500, 'tablet': 1250, 'phone': 580, 'watch': 370.0}\n",
      "Insert your operation(add/delete/edit/detail/search): detail\n",
      "The list of products: [('laptop', 3500), ('tablet', 1250), ('phone', 580), ('watch', 370.0)]\n",
      "             The products: ['laptop', 'tablet', 'phone', 'watch'] ---> 4\n",
      "             The most expensive products: laptop-->3500\n",
      "             The cheapest products: watch-->370.0\n",
      "             The average of products: 1425.0 \n",
      "Insert your operation(add/delete/edit/detail/search): search\n",
      "Enter your word to search: a\n",
      "laptop\n",
      "tablet\n",
      "watch\n",
      "Insert your operation(add/delete/edit/detail/search): exit\n"
     ]
    }
   ],
   "source": [
    "products = {'laptop':3500, 'tablet':1250, 'phone':580}\n",
    "while True:\n",
    "    user = input(f'Insert your operation(add/delete/edit/detail/search): ')\n",
    "    if user == 'add':\n",
    "        add_prod(products)\n",
    "    elif user == 'delete':\n",
    "        delete_prod(products)\n",
    "    elif user == 'edit':\n",
    "        edit(products)\n",
    "    elif user == 'detail':\n",
    "        display(products)\n",
    "    elif user == 'search':\n",
    "        search(products)\n",
    "    elif user == \"\":\n",
    "        pass\n",
    "    elif user == 'exit':\n",
    "        break\n",
    "    else:\n",
    "        print(f'{user} NOT found!')"
   ]
  },
  {
   "cell_type": "code",
   "execution_count": null,
   "id": "f9d3255e",
   "metadata": {},
   "outputs": [],
   "source": []
  }
 ],
 "metadata": {
  "kernelspec": {
   "display_name": "Python 3 (ipykernel)",
   "language": "python",
   "name": "python3"
  },
  "language_info": {
   "codemirror_mode": {
    "name": "ipython",
    "version": 3
   },
   "file_extension": ".py",
   "mimetype": "text/x-python",
   "name": "python",
   "nbconvert_exporter": "python",
   "pygments_lexer": "ipython3",
   "version": "3.9.12"
  }
 },
 "nbformat": 4,
 "nbformat_minor": 5
}
