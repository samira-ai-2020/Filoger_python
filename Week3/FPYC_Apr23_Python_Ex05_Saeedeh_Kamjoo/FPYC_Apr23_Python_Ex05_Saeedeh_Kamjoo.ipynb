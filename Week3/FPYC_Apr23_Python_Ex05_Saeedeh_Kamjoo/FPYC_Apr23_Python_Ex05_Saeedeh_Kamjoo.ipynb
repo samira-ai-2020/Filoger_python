{
 "cells": [
  {
   "cell_type": "markdown",
   "id": "a6595faf",
   "metadata": {},
   "source": [
    "# <center> Exercise 05"
   ]
  },
  {
   "cell_type": "markdown",
   "id": "244c3a65",
   "metadata": {},
   "source": [
    "## Question1:\n",
    "Based on the lists below, answer the questions"
   ]
  },
  {
   "cell_type": "code",
   "execution_count": 1,
   "id": "f11e6b6f",
   "metadata": {},
   "outputs": [],
   "source": [
    "my_list= [2, 15, 0, \"python\", 4.6,\"java\", 90, 10]"
   ]
  },
  {
   "cell_type": "markdown",
   "id": "64291c51",
   "metadata": {},
   "source": [
    "### Q1.1:\n",
    "Print first and last items of the list"
   ]
  },
  {
   "cell_type": "code",
   "execution_count": 2,
   "id": "d87dfec1",
   "metadata": {},
   "outputs": [
    {
     "name": "stdout",
     "output_type": "stream",
     "text": [
      "The first item: 2\n",
      "The last item: 10\n"
     ]
    }
   ],
   "source": [
    "print(f'The first item: {my_list[0]}\\nThe last item: {my_list[-1]}')"
   ]
  },
  {
   "cell_type": "markdown",
   "id": "5b57b890",
   "metadata": {},
   "source": [
    "### Q1.2:\n",
    "Remove first and last items of the list"
   ]
  },
  {
   "cell_type": "code",
   "execution_count": 3,
   "id": "127641a8",
   "metadata": {},
   "outputs": [
    {
     "name": "stdout",
     "output_type": "stream",
     "text": [
      "[15, 0, 'python', 4.6, 'java', 90]\n"
     ]
    }
   ],
   "source": [
    "removed_first = my_list.pop(0)\n",
    "removed_last = my_list.pop()\n",
    "print(my_list)"
   ]
  },
  {
   "cell_type": "markdown",
   "id": "67c9b8a0",
   "metadata": {},
   "source": [
    "### Q1.3:\n",
    "Remove 90 and 300 from the list"
   ]
  },
  {
   "cell_type": "code",
   "execution_count": 4,
   "id": "84876214",
   "metadata": {},
   "outputs": [
    {
     "data": {
      "text/plain": [
       "[15, 0, 'python', 4.6, 'java']"
      ]
     },
     "execution_count": 4,
     "metadata": {},
     "output_type": "execute_result"
    }
   ],
   "source": [
    "my_list.remove(90)\n",
    "my_list"
   ]
  },
  {
   "cell_type": "markdown",
   "id": "273b7e65",
   "metadata": {},
   "source": [
    "### Q1.4:\n",
    "Add 5 between 15 and 0"
   ]
  },
  {
   "cell_type": "code",
   "execution_count": 5,
   "id": "38beb69f",
   "metadata": {},
   "outputs": [
    {
     "data": {
      "text/plain": [
       "[15, 5, 0, 'python', 4.6, 'java']"
      ]
     },
     "execution_count": 5,
     "metadata": {},
     "output_type": "execute_result"
    }
   ],
   "source": [
    "my_list.insert(1, 5)\n",
    "my_list"
   ]
  },
  {
   "cell_type": "markdown",
   "id": "4d47a3aa",
   "metadata": {},
   "source": [
    "### Q1.5:\n",
    "Edit “Js” with “python”"
   ]
  },
  {
   "cell_type": "code",
   "execution_count": 6,
   "id": "44d44163",
   "metadata": {},
   "outputs": [
    {
     "data": {
      "text/plain": [
       "[15, 5, 0, 'Js', 4.6, 'java']"
      ]
     },
     "execution_count": 6,
     "metadata": {},
     "output_type": "execute_result"
    }
   ],
   "source": [
    "my_list[3] = 'Js'\n",
    "my_list"
   ]
  },
  {
   "cell_type": "markdown",
   "id": "0ab1ee3d",
   "metadata": {},
   "source": [
    "### Q1.6:\n",
    "Add 50 at the end of the list"
   ]
  },
  {
   "cell_type": "code",
   "execution_count": 7,
   "id": "27bbb46e",
   "metadata": {},
   "outputs": [
    {
     "data": {
      "text/plain": [
       "[15, 5, 0, 'Js', 4.6, 'java', 50]"
      ]
     },
     "execution_count": 7,
     "metadata": {},
     "output_type": "execute_result"
    }
   ],
   "source": [
    "my_list.append(50)\n",
    "my_list"
   ]
  },
  {
   "cell_type": "markdown",
   "id": "69f86274",
   "metadata": {},
   "source": [
    "### Q1.7:\n",
    "Search for 0 in the list and if it is in the list print \"yes\" else print \"no\""
   ]
  },
  {
   "cell_type": "code",
   "execution_count": 8,
   "id": "763ba237",
   "metadata": {},
   "outputs": [
    {
     "name": "stdout",
     "output_type": "stream",
     "text": [
      "yes\n"
     ]
    }
   ],
   "source": [
    "if 0 in my_list:\n",
    "    print('yes')\n",
    "else:\n",
    "    print('no')"
   ]
  },
  {
   "cell_type": "markdown",
   "id": "2f4a68b9",
   "metadata": {},
   "source": [
    "## Question2:\n",
    "Get a string in one of the following forms from the input and display the expected result.\n",
    "<img src=\"Ex5.2.png\" width=\"400\" height=\"600\">"
   ]
  },
  {
   "cell_type": "code",
   "execution_count": 9,
   "id": "794868fb",
   "metadata": {},
   "outputs": [
    {
     "name": "stdout",
     "output_type": "stream",
     "text": [
      "Insert your sample: 3 / 0 = ?\n",
      "['3', '/', '0', '=', '?']\n",
      "------------------------------\n",
      "x = 3, y = 0, operator = /\n"
     ]
    }
   ],
   "source": [
    "sample = input('Insert your sample: ')\n",
    "lst_sample = sample.split()\n",
    "print(lst_sample)\n",
    "print('-'*30)\n",
    "x = int(lst_sample[0])\n",
    "y = int(lst_sample[2])\n",
    "print(f'x = {x}, y = {y}, operator = {lst_sample[1]}')"
   ]
  },
  {
   "cell_type": "code",
   "execution_count": 10,
   "id": "d636d4ff",
   "metadata": {},
   "outputs": [
    {
     "name": "stdout",
     "output_type": "stream",
     "text": [
      "3 / 0 = Error\n"
     ]
    }
   ],
   "source": [
    "if lst_sample[1] == '+':\n",
    "    print(f'{x} + {y} = {x+y}')\n",
    "elif lst_sample[1] == '-':\n",
    "    print(f'{x} - {y} = {x-y}')\n",
    "elif lst_sample[1] == '*':\n",
    "    print(f'{x} * {y} = {x*y}')\n",
    "elif lst_sample[1] == '/' and y != 0:\n",
    "        print(f'{x} / {y} = {x/y}') \n",
    "elif lst_sample[1] == '/':\n",
    "        print(f'{x} / {y} = Error')\n",
    "else:\n",
    "    print('Your operator is not authorized')"
   ]
  },
  {
   "cell_type": "markdown",
   "id": "4b8cac4e",
   "metadata": {},
   "source": [
    "## Question3:\n",
    "Based on the two lists below, make a third list that includes the data that is in the first list and not in the second list."
   ]
  },
  {
   "cell_type": "code",
   "execution_count": 11,
   "id": "93c3a2c9",
   "metadata": {},
   "outputs": [],
   "source": [
    "List1 = [ 12, 2, 34, 10, 4, 18, 10]\n",
    "List2 = [12, 100, 10, 4, 5, 50]"
   ]
  },
  {
   "cell_type": "code",
   "execution_count": 12,
   "id": "79ad5775",
   "metadata": {},
   "outputs": [
    {
     "name": "stdout",
     "output_type": "stream",
     "text": [
      "List1: [12, 2, 34, 10, 4, 18, 10]\n",
      "List2: [12, 100, 10, 4, 5, 50]\n",
      "List3: [2, 34, 18]\n"
     ]
    }
   ],
   "source": [
    "List3 = List1.copy()\n",
    "for i in List1:\n",
    "    for j in List2:\n",
    "        if j==i:\n",
    "            List3.remove(i)\n",
    "print(f'List1: {List1}\\nList2: {List2}\\nList3: {List3}')"
   ]
  },
  {
   "cell_type": "markdown",
   "id": "804781b4",
   "metadata": {},
   "source": [
    "## Question4:\n",
    "Display the minimum, maximum, sum, average, length, and median for the list below."
   ]
  },
  {
   "cell_type": "code",
   "execution_count": 13,
   "id": "396b963d",
   "metadata": {},
   "outputs": [
    {
     "name": "stdout",
     "output_type": "stream",
     "text": [
      "The maximum: 45\n",
      "--------------------\n",
      "The minimum: 1.5\n",
      "--------------------\n",
      "The length: 8\n",
      "--------------------\n",
      "The sum: 140.9\n",
      "--------------------\n",
      "The average: 17.6125\n",
      "--------------------\n",
      "The sorted list: [1.5, 2.4, 10, 12, 20, 20, 30, 45]\n",
      "--------------------\n",
      "The median: 16.0\n"
     ]
    }
   ],
   "source": [
    "Numbers = [10, 20, 20, 12, 30, 45, 2.4, 1.5]\n",
    "\n",
    "# Maximum\n",
    "max_n = max(Numbers)\n",
    "print(f'The maximum: {max_n}')\n",
    "print('-'*20)\n",
    "\n",
    "# Minimum\n",
    "min_n = min(Numbers)\n",
    "print(f'The minimum: {min_n}')\n",
    "print('-'*20)\n",
    "\n",
    "# Length\n",
    "length = len(Numbers)\n",
    "print(f'The length: {length}')\n",
    "print('-'*20)\n",
    "\n",
    "# Sum\n",
    "sum_n = sum(Numbers)\n",
    "print(f'The sum: {sum_n}')\n",
    "print('-'*20)\n",
    "\n",
    "# Average\n",
    "print(f'The average: {sum_n/length}')\n",
    "print('-'*20)\n",
    "\n",
    "# Median\n",
    "Numbers.sort()\n",
    "med_index = length//2\n",
    "if length % 2 == 0:\n",
    "    median = (Numbers[med_index-1] + Numbers[med_index])/2\n",
    "else:\n",
    "    median = Numbers[med_index]\n",
    "    \n",
    "print(f'The sorted list: {Numbers}')\n",
    "print('-'*20)    \n",
    "print(f'The median: {median}')"
   ]
  },
  {
   "cell_type": "code",
   "execution_count": null,
   "id": "bf18984d",
   "metadata": {},
   "outputs": [],
   "source": []
  }
 ],
 "metadata": {
  "kernelspec": {
   "display_name": "Python 3 (ipykernel)",
   "language": "python",
   "name": "python3"
  },
  "language_info": {
   "codemirror_mode": {
    "name": "ipython",
    "version": 3
   },
   "file_extension": ".py",
   "mimetype": "text/x-python",
   "name": "python",
   "nbconvert_exporter": "python",
   "pygments_lexer": "ipython3",
   "version": "3.9.16"
  }
 },
 "nbformat": 4,
 "nbformat_minor": 5
}
