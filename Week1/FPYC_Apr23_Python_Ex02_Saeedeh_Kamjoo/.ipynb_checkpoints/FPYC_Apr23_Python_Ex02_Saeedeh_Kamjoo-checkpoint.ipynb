{
 "cells": [
  {
   "cell_type": "markdown",
   "id": "56559801",
   "metadata": {},
   "source": [
    "# <center>Exercise 02"
   ]
  },
  {
   "cell_type": "markdown",
   "id": "37d388d9",
   "metadata": {},
   "source": [
    "## Question1:\n",
    "Get a number from input and display its absolute value."
   ]
  },
  {
   "cell_type": "code",
   "execution_count": 1,
   "id": "47a88d68",
   "metadata": {},
   "outputs": [
    {
     "name": "stdout",
     "output_type": "stream",
     "text": [
      "Insert your number: -23.45\n",
      "The absolut number is 23.45\n"
     ]
    }
   ],
   "source": [
    "number = float(input('Insert your number: '))\n",
    "\n",
    "if number < 0:\n",
    "    print(f'The absolut number is {abs(number)}')\n",
    "else:\n",
    "    print(f' Number {number} is positive')"
   ]
  },
  {
   "cell_type": "markdown",
   "id": "8b8bb2f7",
   "metadata": {},
   "source": [
    "## Question2:\n",
    "Get three numbers from the user and display the number that is between the other two numbers in the output."
   ]
  },
  {
   "cell_type": "code",
   "execution_count": 2,
   "id": "41124531",
   "metadata": {},
   "outputs": [
    {
     "name": "stdout",
     "output_type": "stream",
     "text": [
      "Insert fisrt number: 8\n",
      "Insert second number: 2\n",
      "Insert third number: 12\n"
     ]
    }
   ],
   "source": [
    "num1 = int(input('Insert fisrt number: '))\n",
    "num2 = int(input('Insert second number: '))\n",
    "num3 = int(input('Insert third number: '))"
   ]
  },
  {
   "cell_type": "code",
   "execution_count": 3,
   "id": "ee7c7e40",
   "metadata": {},
   "outputs": [
    {
     "name": "stdout",
     "output_type": "stream",
     "text": [
      "The middle numbers --> 8\n"
     ]
    }
   ],
   "source": [
    "if num1 >= num2 and num1 >= num3:\n",
    "    largest = num1\n",
    "    if num2 >= num3:\n",
    "        middle = num2\n",
    "        smallest = num3\n",
    "    else:\n",
    "        middle = num3\n",
    "        smallest = num2\n",
    "elif num2 >= num1 and num2 >= num3:\n",
    "    largest = num2\n",
    "    if num1 >= num3:\n",
    "        middle = num1\n",
    "        smallest = num3\n",
    "    else:\n",
    "        middle = num3\n",
    "        smallest = num1\n",
    "else:\n",
    "    largest = num3\n",
    "    if num1 >= num2:\n",
    "        middle = num1\n",
    "        smallest = num2\n",
    "    else:\n",
    "        middle = num2\n",
    "        smallest = num1\n",
    "\n",
    "print(f\"The middle numbers --> {middle}\")"
   ]
  },
  {
   "cell_type": "markdown",
   "id": "f134e1e5",
   "metadata": {},
   "source": [
    "## Question3:\n",
    "Define a username and password. Then get username and password from the user, if match the defined information, display a welcome message, and if the information is wrong, display one of the following messages.\n",
    "- If the username was wrong: “The username entered is wrong”\n",
    "- If the password was wrong: “The entered password is wrong”\n",
    "- If the username and password were wrong: “the entered information is wrong”"
   ]
  },
  {
   "cell_type": "code",
   "execution_count": 4,
   "id": "2cf56f42",
   "metadata": {},
   "outputs": [
    {
     "name": "stdout",
     "output_type": "stream",
     "text": [
      "Please enter your username: ziba\n",
      "Please enter your password: nnnn\n",
      "The entered password is wrong\n"
     ]
    }
   ],
   "source": [
    "username = 'ziba'\n",
    "password = 'New Jersey'\n",
    "user_in = input('Please enter your username: ')\n",
    "pass_in = input('Please enter your password: ')\n",
    "\n",
    "if username == user_in and password == pass_in:\n",
    "    print(f'Hi, {user_in}')\n",
    "elif username != user_in and password != pass_in:\n",
    "    print('The entered information is wrong')\n",
    "elif username != user_in:\n",
    "    print('The username entered is wrong')\n",
    "elif password != pass_in:\n",
    "    print('The entered password is wrong')\n"
   ]
  }
 ],
 "metadata": {
  "kernelspec": {
   "display_name": "Python 3 (ipykernel)",
   "language": "python",
   "name": "python3"
  },
  "language_info": {
   "codemirror_mode": {
    "name": "ipython",
    "version": 3
   },
   "file_extension": ".py",
   "mimetype": "text/x-python",
   "name": "python",
   "nbconvert_exporter": "python",
   "pygments_lexer": "ipython3",
   "version": "3.9.12"
  }
 },
 "nbformat": 4,
 "nbformat_minor": 5
}
