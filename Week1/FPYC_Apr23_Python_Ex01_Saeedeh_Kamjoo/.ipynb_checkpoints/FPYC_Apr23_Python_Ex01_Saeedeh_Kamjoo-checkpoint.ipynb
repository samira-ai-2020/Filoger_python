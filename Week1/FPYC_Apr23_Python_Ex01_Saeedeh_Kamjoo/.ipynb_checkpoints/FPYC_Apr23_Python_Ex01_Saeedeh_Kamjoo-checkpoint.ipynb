{
 "cells": [
  {
   "cell_type": "markdown",
   "id": "9e800a2b",
   "metadata": {},
   "source": [
    "# <center>Exercise 01"
   ]
  },
  {
   "cell_type": "markdown",
   "id": "866ed41a",
   "metadata": {},
   "source": [
    "## Question1: \n",
    "For each of the following variables, first show the type of the variable, then change it to the requested type and show the type again."
   ]
  },
  {
   "cell_type": "markdown",
   "id": "90fb6111",
   "metadata": {},
   "source": [
    "### Show the type of variables (first column)"
   ]
  },
  {
   "cell_type": "code",
   "execution_count": 1,
   "id": "62d9586f",
   "metadata": {},
   "outputs": [
    {
     "name": "stdout",
     "output_type": "stream",
     "text": [
      "Type of num1 is <class 'float'>\n",
      "Type of num2 is <class 'str'>\n",
      "Type of num3 is <class 'str'>\n",
      "Type of student_num is <class 'str'>\n",
      "Type of flag is <class 'bool'>\n"
     ]
    }
   ],
   "source": [
    "num1 = 12.6\n",
    "num2 = '050'\n",
    "num3 = '20.'\n",
    "student_num= 's98234'\n",
    "flag = True\n",
    "\n",
    "print(f'Type of num1 is {type(num1)}\\nType of num2 is {type(num2)}\\\n",
    "\\nType of num3 is {type(num3)}\\\n",
    "\\nType of student_num is {type(student_num)}\\\n",
    "\\nType of flag is {type(flag)}')"
   ]
  },
  {
   "cell_type": "markdown",
   "id": "fbe58cf4",
   "metadata": {},
   "source": [
    "### Change type of variables to int and float"
   ]
  },
  {
   "cell_type": "code",
   "execution_count": 2,
   "id": "bf693763",
   "metadata": {},
   "outputs": [
    {
     "name": "stdout",
     "output_type": "stream",
     "text": [
      "num1 \n",
      "integer: 12, float: 12.6\n"
     ]
    }
   ],
   "source": [
    "print(f'num1 \\ninteger: {int(num1)}, float: {float(num1)}')"
   ]
  },
  {
   "cell_type": "code",
   "execution_count": 3,
   "id": "5e88aa62",
   "metadata": {},
   "outputs": [
    {
     "name": "stdout",
     "output_type": "stream",
     "text": [
      "num2 \n",
      "integer: 50, float: 50.0\n"
     ]
    }
   ],
   "source": [
    "print(f'num2 \\ninteger: {int(num2)}, float: {float(num2)}')"
   ]
  },
  {
   "cell_type": "code",
   "execution_count": 4,
   "id": "1061e79f",
   "metadata": {},
   "outputs": [
    {
     "ename": "ValueError",
     "evalue": "invalid literal for int() with base 10: '20.'",
     "output_type": "error",
     "traceback": [
      "\u001b[1;31m---------------------------------------------------------------------------\u001b[0m",
      "\u001b[1;31mValueError\u001b[0m                                Traceback (most recent call last)",
      "Input \u001b[1;32mIn [4]\u001b[0m, in \u001b[0;36m<cell line: 2>\u001b[1;34m()\u001b[0m\n\u001b[0;32m      1\u001b[0m \u001b[38;5;66;03m# dot is a character \u001b[39;00m\n\u001b[1;32m----> 2\u001b[0m \u001b[38;5;28mprint\u001b[39m(\u001b[38;5;124mf\u001b[39m\u001b[38;5;124m'\u001b[39m\u001b[38;5;124mnum3 \u001b[39m\u001b[38;5;130;01m\\n\u001b[39;00m\u001b[38;5;124minteger: \u001b[39m\u001b[38;5;132;01m{\u001b[39;00m\u001b[38;5;28mint\u001b[39m(num3)\u001b[38;5;132;01m}\u001b[39;00m\u001b[38;5;124m'\u001b[39m)\n",
      "\u001b[1;31mValueError\u001b[0m: invalid literal for int() with base 10: '20.'"
     ]
    }
   ],
   "source": [
    "# dot is a character \n",
    "print(f'num3 \\ninteger: {int(num3)}') "
   ]
  },
  {
   "cell_type": "code",
   "execution_count": 5,
   "id": "f0a99ad9",
   "metadata": {},
   "outputs": [
    {
     "name": "stdout",
     "output_type": "stream",
     "text": [
      "num3 \n",
      "float: 20.0\n"
     ]
    }
   ],
   "source": [
    "print(f'num3 \\nfloat: {float(num3)}')"
   ]
  },
  {
   "cell_type": "code",
   "execution_count": 6,
   "id": "aba3cfcb",
   "metadata": {},
   "outputs": [
    {
     "ename": "ValueError",
     "evalue": "invalid literal for int() with base 10: 's98234'",
     "output_type": "error",
     "traceback": [
      "\u001b[1;31m---------------------------------------------------------------------------\u001b[0m",
      "\u001b[1;31mValueError\u001b[0m                                Traceback (most recent call last)",
      "Input \u001b[1;32mIn [6]\u001b[0m, in \u001b[0;36m<cell line: 2>\u001b[1;34m()\u001b[0m\n\u001b[0;32m      1\u001b[0m \u001b[38;5;66;03m# s is a character \u001b[39;00m\n\u001b[1;32m----> 2\u001b[0m \u001b[38;5;28mprint\u001b[39m(\u001b[38;5;124mf\u001b[39m\u001b[38;5;124m'\u001b[39m\u001b[38;5;124mstudent_num \u001b[39m\u001b[38;5;130;01m\\n\u001b[39;00m\u001b[38;5;124minteger: \u001b[39m\u001b[38;5;132;01m{\u001b[39;00m\u001b[38;5;28mint\u001b[39m(student_num)\u001b[38;5;132;01m}\u001b[39;00m\u001b[38;5;124m'\u001b[39m)\n",
      "\u001b[1;31mValueError\u001b[0m: invalid literal for int() with base 10: 's98234'"
     ]
    }
   ],
   "source": [
    "# s is a character \n",
    "print(f'student_num \\ninteger: {int(student_num)}') "
   ]
  },
  {
   "cell_type": "code",
   "execution_count": 7,
   "id": "5c8140eb",
   "metadata": {},
   "outputs": [
    {
     "ename": "ValueError",
     "evalue": "could not convert string to float: 's98234'",
     "output_type": "error",
     "traceback": [
      "\u001b[1;31m---------------------------------------------------------------------------\u001b[0m",
      "\u001b[1;31mValueError\u001b[0m                                Traceback (most recent call last)",
      "Input \u001b[1;32mIn [7]\u001b[0m, in \u001b[0;36m<cell line: 2>\u001b[1;34m()\u001b[0m\n\u001b[0;32m      1\u001b[0m \u001b[38;5;66;03m# s is a character \u001b[39;00m\n\u001b[1;32m----> 2\u001b[0m \u001b[38;5;28mprint\u001b[39m(\u001b[38;5;124mf\u001b[39m\u001b[38;5;124m'\u001b[39m\u001b[38;5;124mstudent_num \u001b[39m\u001b[38;5;130;01m\\n\u001b[39;00m\u001b[38;5;124mfloat: \u001b[39m\u001b[38;5;132;01m{\u001b[39;00m\u001b[38;5;28mfloat\u001b[39m(student_num)\u001b[38;5;132;01m}\u001b[39;00m\u001b[38;5;124m'\u001b[39m)\n",
      "\u001b[1;31mValueError\u001b[0m: could not convert string to float: 's98234'"
     ]
    }
   ],
   "source": [
    "# s is a character \n",
    "print(f'student_num \\nfloat: {float(student_num)}')"
   ]
  },
  {
   "cell_type": "code",
   "execution_count": 8,
   "id": "2e0b69c8",
   "metadata": {},
   "outputs": [
    {
     "name": "stdout",
     "output_type": "stream",
     "text": [
      "flag \n",
      "integer: 1, float: 1.0\n"
     ]
    }
   ],
   "source": [
    "print(f'flag \\ninteger: {int(flag)}, float: {float(flag)}') "
   ]
  },
  {
   "cell_type": "markdown",
   "id": "e1657a53",
   "metadata": {},
   "source": [
    "### Show the type of variables (second column)"
   ]
  },
  {
   "cell_type": "code",
   "execution_count": 35,
   "id": "65e005b7",
   "metadata": {},
   "outputs": [
    {
     "name": "stdout",
     "output_type": "stream",
     "text": [
      "Type of num1 is <class 'int'>\n",
      "Type of num2 is <class 'int'>\n",
      "Type of flag is <class 'str'>\n"
     ]
    }
   ],
   "source": [
    "num1 = -20\n",
    "num2 = 00\n",
    "flag = 'False'\n",
    "\n",
    "print(f'Type of num1 is {type(num1)}\\nType of num2 is {type(num2)}\\\n",
    "\\nType of flag is {type(flag)}')"
   ]
  },
  {
   "cell_type": "markdown",
   "id": "f614f08a",
   "metadata": {},
   "source": [
    "### Change to boolean"
   ]
  },
  {
   "cell_type": "code",
   "execution_count": 10,
   "id": "de60ffd9",
   "metadata": {},
   "outputs": [
    {
     "name": "stdout",
     "output_type": "stream",
     "text": [
      "num1 --> True\n"
     ]
    }
   ],
   "source": [
    "print(f'num1 --> {bool(num1)}')"
   ]
  },
  {
   "cell_type": "code",
   "execution_count": 11,
   "id": "4fe8d7e3",
   "metadata": {},
   "outputs": [
    {
     "name": "stdout",
     "output_type": "stream",
     "text": [
      "num2 --> False\n"
     ]
    }
   ],
   "source": [
    "print(f'num2 --> {bool(num2)}')"
   ]
  },
  {
   "cell_type": "code",
   "execution_count": 12,
   "id": "c8d0e9ba",
   "metadata": {},
   "outputs": [
    {
     "name": "stdout",
     "output_type": "stream",
     "text": [
      "flag --> True\n"
     ]
    }
   ],
   "source": [
    "print(f'flag --> {bool(flag)}')"
   ]
  },
  {
   "cell_type": "markdown",
   "id": "d1deb9e1",
   "metadata": {},
   "source": [
    "## Question2:\n",
    "Display average of the following three variables in the output."
   ]
  },
  {
   "cell_type": "code",
   "execution_count": 13,
   "id": "709014c2",
   "metadata": {},
   "outputs": [
    {
     "name": "stdout",
     "output_type": "stream",
     "text": [
      "The average is  19.166666666666668\n"
     ]
    }
   ],
   "source": [
    "num1 = 20\n",
    "num2 = 19.\n",
    "num3 = '18.5'\n",
    "\n",
    "# step1 --> change type of num3\n",
    "num3 = float(num3)\n",
    "\n",
    "# step2 --> summation of given variables\n",
    "\n",
    "sum_varibales = num1+num2+num3\n",
    "\n",
    "# step3 --> Calculate the average\n",
    "\n",
    "average = sum_varibales/3\n",
    "print('The average is ', average)"
   ]
  },
  {
   "cell_type": "markdown",
   "id": "3b4497e0",
   "metadata": {},
   "source": [
    "## Question3:\n",
    "Define two variables with integer values, \n",
    "then display True if the first variable is greater than the second and display False if it is smaller."
   ]
  },
  {
   "cell_type": "code",
   "execution_count": 14,
   "id": "17a9a791",
   "metadata": {},
   "outputs": [
    {
     "name": "stdout",
     "output_type": "stream",
     "text": [
      "False\n"
     ]
    }
   ],
   "source": [
    "a = 25\n",
    "b = 78\n",
    "print(a > b)"
   ]
  },
  {
   "cell_type": "markdown",
   "id": "243aefc3",
   "metadata": {},
   "source": [
    "## Question4:\n",
    "By getting the length and width of a rectangle, calculate and display its perimeter and area."
   ]
  },
  {
   "cell_type": "code",
   "execution_count": 15,
   "id": "504c9b4b",
   "metadata": {},
   "outputs": [
    {
     "name": "stdout",
     "output_type": "stream",
     "text": [
      "please insert the arbitrary width of rectangle --> 15.3\n",
      "please insert the arbitrary length of rectangle --> 2.7\n"
     ]
    }
   ],
   "source": [
    "width = float(input('please insert the arbitrary width of rectangle --> '))\n",
    "length = float(input('please insert the arbitrary length of rectangle --> '))"
   ]
  },
  {
   "cell_type": "code",
   "execution_count": 16,
   "id": "91cf87dc",
   "metadata": {},
   "outputs": [
    {
     "name": "stdout",
     "output_type": "stream",
     "text": [
      "The perimeter is 36.0\n",
      "The area is 41.31 \n"
     ]
    }
   ],
   "source": [
    "print(f'The perimeter is {2*(width + length)}\\nThe area is {width * length} ')"
   ]
  },
  {
   "cell_type": "markdown",
   "id": "887f04b0",
   "metadata": {},
   "source": [
    "## Question5:\n",
    "In the figure below, calculate the area of the colored part by getting the radius of the circle.\n",
    "<img src=\"area.jpg\" width=\"300\" height=\"300\">"
   ]
  },
  {
   "cell_type": "code",
   "execution_count": 17,
   "id": "c56dcab3",
   "metadata": {},
   "outputs": [
    {
     "name": "stdout",
     "output_type": "stream",
     "text": [
      "please insert the arbitrary raduis of circle --> 2.6\n"
     ]
    }
   ],
   "source": [
    "radius = float(input('please insert the arbitrary raduis of circle --> '))"
   ]
  },
  {
   "cell_type": "code",
   "execution_count": 18,
   "id": "5fce391d",
   "metadata": {},
   "outputs": [
    {
     "name": "stdout",
     "output_type": "stream",
     "text": [
      "The colored area is  5.813600000000001\n"
     ]
    }
   ],
   "source": [
    "# step1 --> calculate the side of square\n",
    "side = radius*2\n",
    "\n",
    "# step2 --> calculate the areas (square and circle)\n",
    "area_sq = side**2\n",
    "area_circle = 3.14*(radius**2)\n",
    "\n",
    "# Step3 --> calculate colored area\n",
    "colored_area = area_sq - area_circle\n",
    "print('The colored area is ', colored_area)"
   ]
  },
  {
   "cell_type": "markdown",
   "id": "3bef1d69",
   "metadata": {},
   "source": [
    "## Question6:\n",
    "In the following three lines, display the value of num1, num2, num3."
   ]
  },
  {
   "cell_type": "code",
   "execution_count": 19,
   "id": "4786ce0f",
   "metadata": {},
   "outputs": [],
   "source": [
    "# First line\n",
    "num1 = num2 = num3 = 200"
   ]
  },
  {
   "cell_type": "code",
   "execution_count": 20,
   "id": "487c9f5c",
   "metadata": {},
   "outputs": [
    {
     "data": {
      "text/plain": [
       "200"
      ]
     },
     "execution_count": 20,
     "metadata": {},
     "output_type": "execute_result"
    }
   ],
   "source": [
    "num1"
   ]
  },
  {
   "cell_type": "code",
   "execution_count": 21,
   "id": "ef264689",
   "metadata": {},
   "outputs": [
    {
     "data": {
      "text/plain": [
       "200"
      ]
     },
     "execution_count": 21,
     "metadata": {},
     "output_type": "execute_result"
    }
   ],
   "source": [
    "num2"
   ]
  },
  {
   "cell_type": "code",
   "execution_count": 22,
   "id": "20c3e9d6",
   "metadata": {},
   "outputs": [
    {
     "data": {
      "text/plain": [
       "200"
      ]
     },
     "execution_count": 22,
     "metadata": {},
     "output_type": "execute_result"
    }
   ],
   "source": [
    "num3"
   ]
  },
  {
   "cell_type": "code",
   "execution_count": 23,
   "id": "97ebca04",
   "metadata": {},
   "outputs": [],
   "source": [
    "# Second line\n",
    "num1 , num2 , num3 = 10, 20, 145"
   ]
  },
  {
   "cell_type": "code",
   "execution_count": 24,
   "id": "c8145eb6",
   "metadata": {},
   "outputs": [
    {
     "data": {
      "text/plain": [
       "10"
      ]
     },
     "execution_count": 24,
     "metadata": {},
     "output_type": "execute_result"
    }
   ],
   "source": [
    "num1"
   ]
  },
  {
   "cell_type": "code",
   "execution_count": 25,
   "id": "38f60168",
   "metadata": {},
   "outputs": [
    {
     "data": {
      "text/plain": [
       "20"
      ]
     },
     "execution_count": 25,
     "metadata": {},
     "output_type": "execute_result"
    }
   ],
   "source": [
    "num2"
   ]
  },
  {
   "cell_type": "code",
   "execution_count": 26,
   "id": "7d9a3d9d",
   "metadata": {},
   "outputs": [
    {
     "data": {
      "text/plain": [
       "145"
      ]
     },
     "execution_count": 26,
     "metadata": {},
     "output_type": "execute_result"
    }
   ],
   "source": [
    "num3"
   ]
  },
  {
   "cell_type": "code",
   "execution_count": 27,
   "id": "232f84d2",
   "metadata": {},
   "outputs": [
    {
     "ename": "ValueError",
     "evalue": "not enough values to unpack (expected 3, got 2)",
     "output_type": "error",
     "traceback": [
      "\u001b[1;31m---------------------------------------------------------------------------\u001b[0m",
      "\u001b[1;31mValueError\u001b[0m                                Traceback (most recent call last)",
      "Input \u001b[1;32mIn [27]\u001b[0m, in \u001b[0;36m<cell line: 2>\u001b[1;34m()\u001b[0m\n\u001b[0;32m      1\u001b[0m \u001b[38;5;66;03m# Third line\u001b[39;00m\n\u001b[1;32m----> 2\u001b[0m num1 , num2 , num3 \u001b[38;5;241m=\u001b[39m \u001b[38;5;241m30\u001b[39m, \u001b[38;5;241m100\u001b[39m\n",
      "\u001b[1;31mValueError\u001b[0m: not enough values to unpack (expected 3, got 2)"
     ]
    }
   ],
   "source": [
    "# Third line\n",
    "num1 , num2 , num3 = 30, 100"
   ]
  },
  {
   "cell_type": "markdown",
   "id": "24607fc5",
   "metadata": {},
   "source": [
    "### We have two approachs to solve this problem\n",
    "- 1- Remove num3\n",
    "- 2- Add one number to assign num3"
   ]
  },
  {
   "cell_type": "code",
   "execution_count": 28,
   "id": "b61900da",
   "metadata": {},
   "outputs": [],
   "source": [
    "# First approach\n",
    "num1 , num2 = 30, 100"
   ]
  },
  {
   "cell_type": "code",
   "execution_count": 29,
   "id": "50a3e984",
   "metadata": {},
   "outputs": [
    {
     "data": {
      "text/plain": [
       "30"
      ]
     },
     "execution_count": 29,
     "metadata": {},
     "output_type": "execute_result"
    }
   ],
   "source": [
    "num1"
   ]
  },
  {
   "cell_type": "code",
   "execution_count": 30,
   "id": "57d0e26a",
   "metadata": {},
   "outputs": [
    {
     "data": {
      "text/plain": [
       "100"
      ]
     },
     "execution_count": 30,
     "metadata": {},
     "output_type": "execute_result"
    }
   ],
   "source": [
    "num2"
   ]
  },
  {
   "cell_type": "code",
   "execution_count": 31,
   "id": "3a40625e",
   "metadata": {},
   "outputs": [],
   "source": [
    "# Second approach\n",
    "num1 , num2 , num3 = 30, 100, 260"
   ]
  },
  {
   "cell_type": "code",
   "execution_count": 32,
   "id": "5378d485",
   "metadata": {},
   "outputs": [
    {
     "data": {
      "text/plain": [
       "30"
      ]
     },
     "execution_count": 32,
     "metadata": {},
     "output_type": "execute_result"
    }
   ],
   "source": [
    "num1"
   ]
  },
  {
   "cell_type": "code",
   "execution_count": 33,
   "id": "113a5897",
   "metadata": {},
   "outputs": [
    {
     "data": {
      "text/plain": [
       "100"
      ]
     },
     "execution_count": 33,
     "metadata": {},
     "output_type": "execute_result"
    }
   ],
   "source": [
    "num2"
   ]
  },
  {
   "cell_type": "code",
   "execution_count": 34,
   "id": "7171565a",
   "metadata": {},
   "outputs": [
    {
     "data": {
      "text/plain": [
       "260"
      ]
     },
     "execution_count": 34,
     "metadata": {},
     "output_type": "execute_result"
    }
   ],
   "source": [
    "num3"
   ]
  }
 ],
 "metadata": {
  "kernelspec": {
   "display_name": "Python 3 (ipykernel)",
   "language": "python",
   "name": "python3"
  },
  "language_info": {
   "codemirror_mode": {
    "name": "ipython",
    "version": 3
   },
   "file_extension": ".py",
   "mimetype": "text/x-python",
   "name": "python",
   "nbconvert_exporter": "python",
   "pygments_lexer": "ipython3",
   "version": "3.9.12"
  }
 },
 "nbformat": 4,
 "nbformat_minor": 5
}
