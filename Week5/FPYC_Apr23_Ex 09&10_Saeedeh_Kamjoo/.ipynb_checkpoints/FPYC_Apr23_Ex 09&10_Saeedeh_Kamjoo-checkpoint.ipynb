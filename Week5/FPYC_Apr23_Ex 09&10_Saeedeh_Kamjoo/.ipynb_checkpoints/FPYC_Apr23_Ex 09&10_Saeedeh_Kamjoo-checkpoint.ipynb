{
 "cells": [
  {
   "cell_type": "markdown",
   "metadata": {},
   "source": [
    "<div>\n",
    "<h2 style=\"background-color:Purple;text-align:center;border-radius:40px;border: 1px;padding: 20px;\"><b>Filoger Hands On Prerequisite Python For AI <br>Exercises 09 & 10 | Deadline: 2023 17 May <br> Score: 700</h2>\n",
    "</div>"
   ]
  },
  {
   "cell_type": "markdown",
   "metadata": {},
   "source": [
    "# Name"
   ]
  },
  {
   "cell_type": "code",
   "execution_count": 1,
   "metadata": {},
   "outputs": [],
   "source": [
    "# Saeedeh, Kamjoo"
   ]
  },
  {
   "cell_type": "markdown",
   "metadata": {},
   "source": [
    "<h3 style=\"background-color:#ff3300\n",
    ";text-align:center;border-radius:40px;border: 1px;padding: 10px;\"><b>Exercises 09<br>Score: 550</h3>"
   ]
  },
  {
   "cell_type": "markdown",
   "metadata": {},
   "source": [
    "<h5 style=\"background-color:#1765e3;text-align:left;border-radius:40px;border: 1px;padding: 10px;\"><b>1- Based on some examples (code), show the difference between list and tuple. (50)</h5>"
   ]
  },
  {
   "cell_type": "markdown",
   "metadata": {},
   "source": [
    "### Python Lists vs Python Tuples\n",
    "\n",
    "1- List are mutable ---- Tuples are immutable\n",
    "\n",
    "2- Iterations are time-consuming ---- Iterations are comparatively Faster\n",
    "\n",
    "3- Inserting and deleting items is easier with a list. ---- Accessing the elements is best accomplished with a tuple data type.\n",
    "\n",
    "4- Lists consume more memory ---- Tuple consumes less than the list\n",
    "\n",
    "5- Lists have several built-in methods. ---- A tuple does not have many built-in methods because of immutability\n",
    "\n",
    "6- A unexpected change or error is more likely to occur in a list. ---- In a tuple, changes and errors don't usually occur because of immutability."
   ]
  },
  {
   "cell_type": "markdown",
   "metadata": {},
   "source": [
    "#### 1- There is no way to keep changing tuples. Error message if you attempt to change one of the items:"
   ]
  },
  {
   "cell_type": "code",
   "execution_count": 2,
   "metadata": {},
   "outputs": [],
   "source": [
    "names_tpl = (\"Raj\",\"John\",\"Jabby\",\"Raja\")\n",
    "names_lst = [\"Raj\",\"John\",\"Jabby\",\"Raja\"]"
   ]
  },
  {
   "cell_type": "code",
   "execution_count": 3,
   "metadata": {},
   "outputs": [
    {
     "data": {
      "text/plain": [
       "['Samka', 'John', 'Jabby', 'Raja']"
      ]
     },
     "execution_count": 3,
     "metadata": {},
     "output_type": "execute_result"
    }
   ],
   "source": [
    "names_lst[0]= 'Samka'\n",
    "names_lst"
   ]
  },
  {
   "cell_type": "code",
   "execution_count": 4,
   "metadata": {},
   "outputs": [],
   "source": [
    "# # TypeError: 'tuple' object does not support item assignmen\n",
    "# names_tpl[0]='Samka'\n",
    "# names_tpl "
   ]
  },
  {
   "cell_type": "markdown",
   "metadata": {},
   "source": [
    "#### 2- Memory usage"
   ]
  },
  {
   "cell_type": "code",
   "execution_count": 5,
   "metadata": {},
   "outputs": [
    {
     "name": "stdout",
     "output_type": "stream",
     "text": [
      "The size of list in memory: 120\n",
      "The size of tuple in memory: 72\n"
     ]
    }
   ],
   "source": [
    "import sys\n",
    "print(f'The size of list in memory: {sys.getsizeof(names_lst)}\\\n",
    "\\nThe size of tuple in memory: {sys.getsizeof(names_tpl)}')"
   ]
  },
  {
   "cell_type": "markdown",
   "metadata": {},
   "source": [
    "#### 3- Run time"
   ]
  },
  {
   "cell_type": "code",
   "execution_count": 6,
   "metadata": {},
   "outputs": [
    {
     "name": "stdout",
     "output_type": "stream",
     "text": [
      "Samka\n",
      "John\n",
      "Jabby\n",
      "Raja\n",
      "Run time of list: 00:00:00\n"
     ]
    }
   ],
   "source": [
    "import time \n",
    "\n",
    "starts = time.time()\n",
    "for i in names_lst:\n",
    "    print(i)\n",
    "    \n",
    "ends = time.time()\n",
    "results = (ends-starts)*100000\n",
    "print(f'Run time of list: {time.strftime(\"%H:%M:%S\", time.gmtime(results))}')"
   ]
  },
  {
   "cell_type": "code",
   "execution_count": 7,
   "metadata": {},
   "outputs": [
    {
     "name": "stdout",
     "output_type": "stream",
     "text": [
      "Raj\n",
      "John\n",
      "Jabby\n",
      "Raja\n",
      "Run time of list: 00:00:00\n"
     ]
    }
   ],
   "source": [
    "start = time.time()\n",
    "for i in names_tpl:\n",
    "    print(i)\n",
    "    \n",
    "end = time.time()\n",
    "result = (end-start)*100000\n",
    "print(f'Run time of list: {time.strftime(\"%H:%M:%S\", time.gmtime(result))}')"
   ]
  },
  {
   "cell_type": "markdown",
   "metadata": {},
   "source": [
    "<h5 style=\"background-color:#1765e3;text-align:left;border-radius:40px;border: 1px;padding: 10px;\"><b>\n",
    "   2- Answer the questions according to the list below. (100)</h5>"
   ]
  },
  {
   "cell_type": "markdown",
   "metadata": {},
   "source": [
    " \n",
    "1. Create an empty tuple.\n",
    "2. Create a tuple with one item.\n",
    "3. Create a tuple with more than one item.\n",
    "4. Concatenate two tuples of Part2 and Part3.\n",
    "5. Check 1 is in tuple of Part4 or no."
   ]
  },
  {
   "cell_type": "markdown",
   "metadata": {},
   "source": [
    "### Q2.1:"
   ]
  },
  {
   "cell_type": "code",
   "execution_count": 8,
   "metadata": {},
   "outputs": [
    {
     "name": "stdout",
     "output_type": "stream",
     "text": [
      " Type of object: <class 'tuple'>\n"
     ]
    }
   ],
   "source": [
    "tpl_1 = ()\n",
    "print(f' Type of object: {type(tpl_1)}')"
   ]
  },
  {
   "cell_type": "markdown",
   "metadata": {},
   "source": [
    "### Q2.2:"
   ]
  },
  {
   "cell_type": "code",
   "execution_count": 9,
   "metadata": {},
   "outputs": [
    {
     "name": "stdout",
     "output_type": "stream",
     "text": [
      "Given object: (8,) === Type: <class 'tuple'>\n"
     ]
    }
   ],
   "source": [
    "tpl_2 = (8,)\n",
    "print(f\"Given object: {tpl_2} === Type: {type(tpl_2)}\")"
   ]
  },
  {
   "cell_type": "markdown",
   "metadata": {},
   "source": [
    "### Q2.3:"
   ]
  },
  {
   "cell_type": "code",
   "execution_count": 10,
   "metadata": {},
   "outputs": [
    {
     "name": "stdout",
     "output_type": "stream",
     "text": [
      "Given object: (5, 1, 9, -3) === Type: <class 'tuple'>\n"
     ]
    }
   ],
   "source": [
    "tpl_3 = (5,1,9,-3)\n",
    "print(f\"Given object: {tpl_3} === Type: {type(tpl_3)}\")"
   ]
  },
  {
   "cell_type": "markdown",
   "metadata": {},
   "source": [
    "### Q2.4:"
   ]
  },
  {
   "cell_type": "code",
   "execution_count": 11,
   "metadata": {},
   "outputs": [
    {
     "name": "stdout",
     "output_type": "stream",
     "text": [
      "Given object: (8, 5, 1, 9, -3) === Type: <class 'tuple'>\n"
     ]
    }
   ],
   "source": [
    "tpl_4 = tpl_2 + tpl_3\n",
    "print(f\"Given object: {tpl_4} === Type: {type(tpl_4)}\")"
   ]
  },
  {
   "cell_type": "markdown",
   "metadata": {},
   "source": [
    "### Q2.5:"
   ]
  },
  {
   "cell_type": "code",
   "execution_count": 12,
   "metadata": {},
   "outputs": [
    {
     "name": "stdout",
     "output_type": "stream",
     "text": [
      "True\n"
     ]
    }
   ],
   "source": [
    "print(1 in tpl_4)"
   ]
  },
  {
   "cell_type": "markdown",
   "metadata": {},
   "source": [
    "<h5 style=\"background-color:#1765e3;text-align:left;border-radius:40px;border: 1px;padding: 10px;\"><b>3- Answer the questions according to the list below. (100) </h5>"
   ]
  },
  {
   "cell_type": "markdown",
   "metadata": {},
   "source": [
    "1. Add 100 at the end of tuple.\n",
    "2. Add 50 in the index of 3.\n",
    "3. Remove 30 from tuple.\n",
    "4. Edit 10 with 110.\n",
    "5. Sort the tuple.\n"
   ]
  },
  {
   "cell_type": "code",
   "execution_count": 13,
   "metadata": {},
   "outputs": [],
   "source": [
    "numbers = (10, 20, 30, 5, 40, 20, 4, 2, 1,8, 80)"
   ]
  },
  {
   "cell_type": "markdown",
   "metadata": {},
   "source": [
    "### Q3.1:"
   ]
  },
  {
   "cell_type": "code",
   "execution_count": 14,
   "metadata": {},
   "outputs": [
    {
     "name": "stdout",
     "output_type": "stream",
     "text": [
      "Final result: (10, 20, 30, 5, 40, 20, 4, 2, 1, 8, 80, 100)\n"
     ]
    }
   ],
   "source": [
    "# Because Tuples are immutable, we have to convert them to the list format.\n",
    "numbers = list(numbers) \n",
    "numbers.append(100)\n",
    "numbers = tuple(numbers)\n",
    "print(f'Final result: {numbers}')"
   ]
  },
  {
   "cell_type": "markdown",
   "metadata": {},
   "source": [
    "### Q3.2:"
   ]
  },
  {
   "cell_type": "code",
   "execution_count": 15,
   "metadata": {},
   "outputs": [
    {
     "name": "stdout",
     "output_type": "stream",
     "text": [
      "Final result: (10, 20, 30, 50, 5, 40, 20, 4, 2, 1, 8, 80, 100)\n"
     ]
    }
   ],
   "source": [
    "numbers = list(numbers)\n",
    "numbers.insert(3,50)\n",
    "numbers = tuple(numbers)\n",
    "print(f'Final result: {numbers}')"
   ]
  },
  {
   "cell_type": "markdown",
   "metadata": {},
   "source": [
    "### Q3.3:"
   ]
  },
  {
   "cell_type": "code",
   "execution_count": 16,
   "metadata": {},
   "outputs": [
    {
     "name": "stdout",
     "output_type": "stream",
     "text": [
      "Final result: (10, 20, 50, 5, 40, 20, 4, 2, 1, 8, 80, 100)\n"
     ]
    }
   ],
   "source": [
    "numbers = list(numbers)\n",
    "numbers.remove(30)\n",
    "numbers = tuple(numbers)\n",
    "print(f'Final result: {numbers}')"
   ]
  },
  {
   "cell_type": "markdown",
   "metadata": {},
   "source": [
    "### Q3.4:"
   ]
  },
  {
   "cell_type": "code",
   "execution_count": 17,
   "metadata": {},
   "outputs": [
    {
     "name": "stdout",
     "output_type": "stream",
     "text": [
      "Final result: (110, 20, 50, 5, 40, 20, 4, 2, 1, 8, 80, 100)\n"
     ]
    }
   ],
   "source": [
    "numbers = list(numbers)\n",
    "numbers[0] = 110\n",
    "numbers = tuple(numbers)\n",
    "print(f'Final result: {numbers}')"
   ]
  },
  {
   "cell_type": "markdown",
   "metadata": {},
   "source": [
    "### Q3.5:"
   ]
  },
  {
   "cell_type": "code",
   "execution_count": 18,
   "metadata": {},
   "outputs": [
    {
     "name": "stdout",
     "output_type": "stream",
     "text": [
      "Final result: (1, 2, 4, 5, 8, 20, 20, 40, 50, 80, 100, 110)\n"
     ]
    }
   ],
   "source": [
    "numbers = list(numbers)\n",
    "numbers.sort()\n",
    "numbers = tuple(numbers)\n",
    "print(f'Final result: {numbers}')"
   ]
  },
  {
   "cell_type": "markdown",
   "metadata": {},
   "source": [
    "<h5 style=\"background-color:#1765e3;text-align:left;border-radius:40px;border: 1px;padding: 10px;\"><b>4- Write a python program that takes a list of tuple and display other list that only have first and last items of each tuple. (100) </h5> <img src=\"q9.4.png\" width=\"300\" height=\"400\">"
   ]
  },
  {
   "cell_type": "markdown",
   "metadata": {},
   "source": [
    "1- The given list:"
   ]
  },
  {
   "cell_type": "code",
   "execution_count": 19,
   "metadata": {},
   "outputs": [],
   "source": [
    "lst_gvn = [(1, 2, 3), (3, 5, 6), (4, 10, 12)]"
   ]
  },
  {
   "cell_type": "code",
   "execution_count": 20,
   "metadata": {},
   "outputs": [
    {
     "name": "stdout",
     "output_type": "stream",
     "text": [
      "[(1, 3), (3, 6), (4, 12)]\n"
     ]
    }
   ],
   "source": [
    "lst_out = []\n",
    "for i in range(len(lst_gvn)):\n",
    "    tpl_gvn = (lst_gvn[i][0], lst_gvn[i][-1])\n",
    "    lst_out.append(tpl_gvn)\n",
    "print(lst_out)       "
   ]
  },
  {
   "cell_type": "markdown",
   "metadata": {},
   "source": [
    "2- User input list:"
   ]
  },
  {
   "cell_type": "code",
   "execution_count": 21,
   "metadata": {},
   "outputs": [
    {
     "name": "stdout",
     "output_type": "stream",
     "text": [
      "How many do you want to insert tuples: 3\n",
      "Enter your number:(with comma) 12,13,14\n",
      "Enter your number:(with comma) 11,1,2,3,4,56\n",
      "Enter your number:(with comma) 9,8,7,3\n",
      "The input list: [(12, 13, 14), (11, 1, 2, 3, 4, 56), (9, 8, 7, 3)]\n"
     ]
    }
   ],
   "source": [
    "num = int(input('How many do you want to insert tuples: '))\n",
    "\n",
    "lst_in = []\n",
    "for i in range(num):\n",
    "    tpl1 = input('Enter your number:(with comma) ')\n",
    "    tpl1 = tuple(map(int, tpl1.split(',')))\n",
    "    lst_in.append(tpl1)\n",
    "\n",
    "print(f\"The input list: {lst_in}\")"
   ]
  },
  {
   "cell_type": "code",
   "execution_count": 22,
   "metadata": {},
   "outputs": [
    {
     "name": "stdout",
     "output_type": "stream",
     "text": [
      "[(12, 14), (11, 56), (9, 3)]\n"
     ]
    }
   ],
   "source": [
    "lst_out2 = []\n",
    "for i in range(len(lst_in)):\n",
    "    tpl_in = (lst_in[i][0], lst_in[i][-1])\n",
    "    lst_out2.append(tpl_in)\n",
    "print(lst_out2) "
   ]
  },
  {
   "cell_type": "markdown",
   "metadata": {},
   "source": [
    "<h5 style=\"background-color:#1765e3;text-align:left;border-radius:40px;border: 1px;padding: 10px;\"><b>5-Generate 10 different random numbers between 100 and 200 (100)."
   ]
  },
  {
   "cell_type": "code",
   "execution_count": 23,
   "metadata": {},
   "outputs": [
    {
     "name": "stdout",
     "output_type": "stream",
     "text": [
      "{161, 194, 133, 106, 108, 173, 147, 155, 188, 126}\n"
     ]
    }
   ],
   "source": [
    "import random\n",
    "\n",
    "set_rand = set()\n",
    "while len(set_rand) < 10:\n",
    "    items = random.randint(100,200)\n",
    "    set_rand.add(items)\n",
    "print(set_rand)"
   ]
  },
  {
   "cell_type": "markdown",
   "metadata": {},
   "source": [
    "<h5 style=\"background-color:#1765e3;text-align:left;border-radius:40px;border: 1px;padding: 10px;\"><b>6- Create two lists, then create a third list that contains values that are in the first list but not in the second list (50)."
   ]
  },
  {
   "cell_type": "code",
   "execution_count": 24,
   "metadata": {},
   "outputs": [
    {
     "name": "stdout",
     "output_type": "stream",
     "text": [
      "set 1: {1, 2, 3, 5, 7, 8}\n",
      "set 2: {8, 1, 5, 9}\n",
      "Result: [2, 3, 7]\n"
     ]
    }
   ],
   "source": [
    "lst_1 = [1,5,3,7,8,1,2,2,3]\n",
    "lst_2 = [1,1,1, 9, 5, 8 ,8, 5]\n",
    "set_1 = set(lst_1)\n",
    "set_2 = set(lst_2)\n",
    "lst_3 = list(set_1 - set_2) # or lst_3 = list(x.difference(y))\n",
    "print(f'set 1: {set_1}\\nset 2: {set_2}\\nResult: {lst_3}')"
   ]
  },
  {
   "cell_type": "markdown",
   "metadata": {},
   "source": [
    "<h5 style=\"background-color:#1765e3;text-align:left;border-radius:40px;border: 1px;padding: 10px;\"><b>7-Find two new methods for Tuple and Set (50)."
   ]
  },
  {
   "cell_type": "markdown",
   "metadata": {},
   "source": [
    "### Tuple methods"
   ]
  },
  {
   "cell_type": "code",
   "execution_count": 25,
   "metadata": {},
   "outputs": [
    {
     "name": "stdout",
     "output_type": "stream",
     "text": [
      "Number of times a specified value: 4\n",
      "--------------------\n",
      "Index of specified value: 5\n"
     ]
    }
   ],
   "source": [
    "\"\"\"\n",
    "count(): Returns the number of times a specified value occurs in a tuple\n",
    "index(): Searches the tuple for a specified value and returns the position\n",
    "         of where it was found\n",
    "\"\"\"\n",
    "\n",
    "tpl = (3,5,6,1,9,10,3,3,3)\n",
    "print(f'Number of times a specified value: {tpl.count(3)}')\n",
    "print(20*'-')\n",
    "print(f'Index of specified value: {tpl.index(10)}')"
   ]
  },
  {
   "cell_type": "markdown",
   "metadata": {},
   "source": [
    "### Set methods:"
   ]
  },
  {
   "cell_type": "code",
   "execution_count": 26,
   "metadata": {},
   "outputs": [
    {
     "name": "stdout",
     "output_type": "stream",
     "text": [
      "{'google', 'banana', 'cherry', 'microsoft', 'eby'}\n"
     ]
    }
   ],
   "source": [
    "\"\"\"\n",
    "Return a set that contains all items from both sets, \n",
    "except items that are present in both sets:\n",
    "\"\"\"\n",
    "x = {\"apple\", \"banana\", \"cherry\"}\n",
    "y = {\"google\", \"microsoft\", \"apple\", \"eby\"}\n",
    "\n",
    "z = x.symmetric_difference(y)\n",
    "\n",
    "print(z)"
   ]
  },
  {
   "cell_type": "code",
   "execution_count": 27,
   "metadata": {},
   "outputs": [
    {
     "name": "stdout",
     "output_type": "stream",
     "text": [
      "{'apple', 'google', 'microsoft', 'banana', 'cherry'}\n"
     ]
    }
   ],
   "source": [
    "\"\"\"\n",
    "The union() method returns a set that contains all items from\n",
    "the original set, and all items from the specified set(s).\n",
    "You can specify as many sets you want, separated by commas.\n",
    "It does not have to be a set, it can be any iterable object.\n",
    "If an item is present in more than one set, the result will contain\n",
    "only one appearance of this item.\n",
    "\"\"\"\n",
    "x = {\"apple\", \"banana\", \"cherry\"}\n",
    "y = {\"google\", \"microsoft\", \"apple\"}\n",
    "\n",
    "z = x.union(y)\n",
    "\n",
    "print(z)"
   ]
  },
  {
   "cell_type": "markdown",
   "metadata": {},
   "source": [
    "<h3 style=\"background-color:#ff3300\n",
    ";text-align:center;border-radius:40px;border: 1px;padding: 10px;\"><b>Exercises 10<br>Score: 150</h3>"
   ]
  },
  {
   "cell_type": "markdown",
   "metadata": {},
   "source": [
    "<h5 style=\"background-color:#1765e3;text-align:left;border-radius:40px;border: 1px;padding: 10px;\"><b>Write a recursive function for the binary search algorithm.\n",
    "</h5>"
   ]
  },
  {
   "cell_type": "code",
   "execution_count": 28,
   "metadata": {},
   "outputs": [],
   "source": [
    "# Without recursion\n",
    "\n",
    "def binary_search(list1, x):\n",
    "    low = 0\n",
    "    high = len(list1) - 1\n",
    "    mid = 0\n",
    "    while low <= high:\n",
    "        mid = (low + high) // 2\n",
    "        if list1[mid] < x:\n",
    "            low = mid + 1\n",
    "        elif list1[mid] > x:\n",
    "            high = mid -1\n",
    "        else:\n",
    "            return mid\n",
    "    return -1"
   ]
  },
  {
   "cell_type": "code",
   "execution_count": 29,
   "metadata": {},
   "outputs": [],
   "source": [
    "# Recursive function\n",
    "\n",
    "def recursive_binary(lst, num):\n",
    "    if len(lst) == 0:\n",
    "        return -1\n",
    "    if num in lst:\n",
    "        mid = len(lst) // 2\n",
    "        if lst[mid] == num:\n",
    "            return mid\n",
    "        elif lst[mid] > num:\n",
    "            return recursive_binary(lst[:mid] , num)\n",
    "        elif lst[mid] < num:\n",
    "            return recursive_binary(lst[mid+1:] , num) + mid + 1\n",
    "    else:\n",
    "        return -1"
   ]
  },
  {
   "cell_type": "code",
   "execution_count": 30,
   "metadata": {},
   "outputs": [
    {
     "name": "stdout",
     "output_type": "stream",
     "text": [
      "The number exists in the list: 2\n",
      "----------------------------------------\n",
      "The number DOES NOT exist in the list: -1\n"
     ]
    }
   ],
   "source": [
    "lst = [3, 4, 5, 6, 7, 8, 9, 10, 120, 145, 250]\n",
    "print(f'The number exists in the list: {recursive_binary(lst,5)}')\n",
    "print(40*'-')\n",
    "print(f'The number DOES NOT exist in the list: {recursive_binary(lst,50)}')"
   ]
  },
  {
   "cell_type": "code",
   "execution_count": null,
   "metadata": {},
   "outputs": [],
   "source": []
  }
 ],
 "metadata": {
  "kernelspec": {
   "display_name": "Python 3 (ipykernel)",
   "language": "python",
   "name": "python3"
  },
  "language_info": {
   "codemirror_mode": {
    "name": "ipython",
    "version": 3
   },
   "file_extension": ".py",
   "mimetype": "text/x-python",
   "name": "python",
   "nbconvert_exporter": "python",
   "pygments_lexer": "ipython3",
   "version": "3.9.16"
  }
 },
 "nbformat": 4,
 "nbformat_minor": 2
}
